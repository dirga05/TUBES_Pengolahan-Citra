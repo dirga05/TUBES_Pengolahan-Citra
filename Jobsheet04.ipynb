{
  "nbformat": 4,
  "nbformat_minor": 0,
  "metadata": {
    "colab": {
      "provenance": [],
      "authorship_tag": "ABX9TyNyZWp6VD+RcXrDEIfgnozJ",
      "include_colab_link": true
    },
    "kernelspec": {
      "name": "python3",
      "display_name": "Python 3"
    },
    "language_info": {
      "name": "python"
    }
  },
  "cells": [
    {
      "cell_type": "markdown",
      "metadata": {
        "id": "view-in-github",
        "colab_type": "text"
      },
      "source": [
        "<a href=\"https://colab.research.google.com/github/dirga05/Pengolahan-Citra-TI2C/blob/main/Jobsheet04.ipynb\" target=\"_parent\"><img src=\"https://colab.research.google.com/assets/colab-badge.svg\" alt=\"Open In Colab\"/></a>"
      ]
    },
    {
      "cell_type": "markdown",
      "source": [
        "# Praktikum 1. Segmentasi Menggunakan Thresholding Global dan Otsu"
      ],
      "metadata": {
        "id": "WEWnzGonbQQz"
      }
    },
    {
      "cell_type": "code",
      "execution_count": null,
      "metadata": {
        "id": "TQ-1zxwgZoyV"
      },
      "outputs": [],
      "source": []
    },
    {
      "cell_type": "markdown",
      "source": [
        "# Praktikum 2. Segmentasi Menggunakan Region Growing (Contoh Sederhana)"
      ],
      "metadata": {
        "id": "jE0xb0NZbO4v"
      }
    },
    {
      "cell_type": "code",
      "source": [],
      "metadata": {
        "id": "aSaXA4L5bxWg"
      },
      "execution_count": null,
      "outputs": []
    },
    {
      "cell_type": "markdown",
      "source": [
        "# Praktikum 3. Segmentasi Citra Berwarna Menggunakan K-Means Clustering"
      ],
      "metadata": {
        "id": "qwnVDzDZbx_4"
      }
    },
    {
      "cell_type": "code",
      "source": [],
      "metadata": {
        "id": "Vcvq9Ba9bydr"
      },
      "execution_count": null,
      "outputs": []
    },
    {
      "cell_type": "markdown",
      "source": [
        "# Praktikum 4. Segmentasi Berbasis Tepi Menggunakan Watershed"
      ],
      "metadata": {
        "id": "3K3MAkt8b63S"
      }
    },
    {
      "cell_type": "code",
      "source": [],
      "metadata": {
        "id": "dYbsUaDjbzg6"
      },
      "execution_count": null,
      "outputs": []
    },
    {
      "cell_type": "markdown",
      "source": [
        "# Praktikum 5. Perbandingan Visual Hasil Segmentasi"
      ],
      "metadata": {
        "id": "XpTlpCCKby8U"
      }
    },
    {
      "cell_type": "code",
      "source": [],
      "metadata": {
        "id": "2JY4jhOwcazy"
      },
      "execution_count": null,
      "outputs": []
    }
  ]
}